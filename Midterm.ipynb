{
 "cells": [
  {
   "cell_type": "markdown",
   "metadata": {},
   "source": [
    "# Chicago Public Schools Performance Reports 2011-2012\n",
    "\n",
    "## Abstract\n",
    "\n",
    "Reviewing a series of reported assessments, metrics and other scores to determine the attributes of a successful school. These features include measures of safety, intstruction and leadership, parental support, attendance and college enrollment.  The analysis uses Recursive Feature Elimination with Cross-Validationa to determine the meanigful features of a successful school.\n",
    "\n",
    "## Introduction\n",
    "\n",
    "School performance [reporting](https://www.cps.edu/about/district-data/metrics/accountability-reports/) has existed for some time, seeking to assess and quantify the effectiveness of public school systems.  Often, these assessments look solely at student achievement through results of standardized tests.  The source data set and this analysis are novel because of the features under review which extend beyond simply test scores and include a holistic, 360 degree view of the school's experience.\n",
    "\n",
    "Chicago is among the nation's largest public school districts spanning a large population with differing economic conditions.  While the source dataset doesn't explicitly indicate economic terms, it does include score for safety and parent support which serve as a proxy for economic conditions.\n",
    "\n",
    "The dataset captures a range of factors: attendance, instruction, parental support, safety and geography. This analysis is a review these different factors and identify which features are representative of a high achieving school.\n",
    "\n",
    "## Research Questions\n",
    "\n",
    "- Identify the traits that factor into a superlative school\n",
    "- Determine if geographic factors have any impact on school performance\n",
    "- Create a model that scores 85% or better"
   ]
  },
  {
   "cell_type": "markdown",
   "metadata": {},
   "source": [
    "## Exploratory Data Analysis\n",
    "\n",
    "Load dataset from local CSV and gather some basic information regarding shape and other info.\n",
    "\n",
    "Review understanding of the break down of "
   ]
  },
  {
   "cell_type": "code",
   "execution_count": 1,
   "metadata": {},
   "outputs": [
    {
     "data": {
      "text/html": [
       "<div>\n",
       "<style scoped>\n",
       "    .dataframe tbody tr th:only-of-type {\n",
       "        vertical-align: middle;\n",
       "    }\n",
       "\n",
       "    .dataframe tbody tr th {\n",
       "        vertical-align: top;\n",
       "    }\n",
       "\n",
       "    .dataframe thead th {\n",
       "        text-align: right;\n",
       "    }\n",
       "</style>\n",
       "<table border=\"1\" class=\"dataframe\">\n",
       "  <thead>\n",
       "    <tr style=\"text-align: right;\">\n",
       "      <th></th>\n",
       "      <th>School ID</th>\n",
       "      <th>Name of School</th>\n",
       "      <th>Elementary, Middle, or High School</th>\n",
       "      <th>Street Address</th>\n",
       "      <th>City</th>\n",
       "      <th>State</th>\n",
       "      <th>ZIP Code</th>\n",
       "      <th>Phone Number</th>\n",
       "      <th>Link</th>\n",
       "      <th>Network Manager</th>\n",
       "      <th>...</th>\n",
       "      <th>RCDTS Code</th>\n",
       "      <th>X_COORDINATE</th>\n",
       "      <th>Y_COORDINATE</th>\n",
       "      <th>Latitude</th>\n",
       "      <th>Longitude</th>\n",
       "      <th>Community Area Number</th>\n",
       "      <th>Community Area Name</th>\n",
       "      <th>Ward</th>\n",
       "      <th>Police District</th>\n",
       "      <th>Location</th>\n",
       "    </tr>\n",
       "  </thead>\n",
       "  <tbody>\n",
       "    <tr>\n",
       "      <th>0</th>\n",
       "      <td>609966</td>\n",
       "      <td>Charles G Hammond Elementary School</td>\n",
       "      <td>ES</td>\n",
       "      <td>2819 W 21st Pl</td>\n",
       "      <td>Chicago</td>\n",
       "      <td>IL</td>\n",
       "      <td>60623</td>\n",
       "      <td>(773) 535-4580</td>\n",
       "      <td>http://schoolreports.cps.edu/SchoolProgressRep...</td>\n",
       "      <td>Pilsen-Little Village Elementary Network</td>\n",
       "      <td>...</td>\n",
       "      <td>150000000000000</td>\n",
       "      <td>1157809.015</td>\n",
       "      <td>1889554.623</td>\n",
       "      <td>41.852691</td>\n",
       "      <td>-87.696278</td>\n",
       "      <td>30</td>\n",
       "      <td>SOUTH LAWNDALE</td>\n",
       "      <td>12</td>\n",
       "      <td>10</td>\n",
       "      <td>(41.85269133, -87.69627777)</td>\n",
       "    </tr>\n",
       "    <tr>\n",
       "      <th>1</th>\n",
       "      <td>610539</td>\n",
       "      <td>Marvin Camras Elementary School</td>\n",
       "      <td>ES</td>\n",
       "      <td>3000 N Mango Ave</td>\n",
       "      <td>Chicago</td>\n",
       "      <td>IL</td>\n",
       "      <td>60634</td>\n",
       "      <td>(773) 534-2960</td>\n",
       "      <td>http://schoolreports.cps.edu/SchoolProgressRep...</td>\n",
       "      <td>Fullerton Elementary Network</td>\n",
       "      <td>...</td>\n",
       "      <td>150000000000000</td>\n",
       "      <td>1137482.296</td>\n",
       "      <td>1919394.900</td>\n",
       "      <td>41.934966</td>\n",
       "      <td>-87.770165</td>\n",
       "      <td>19</td>\n",
       "      <td>BELMONT CRAGIN</td>\n",
       "      <td>30</td>\n",
       "      <td>25</td>\n",
       "      <td>(41.93496641, -87.77016525)</td>\n",
       "    </tr>\n",
       "    <tr>\n",
       "      <th>2</th>\n",
       "      <td>609852</td>\n",
       "      <td>Eliza Chappell Elementary School</td>\n",
       "      <td>ES</td>\n",
       "      <td>2135 W Foster Ave</td>\n",
       "      <td>Chicago</td>\n",
       "      <td>IL</td>\n",
       "      <td>60625</td>\n",
       "      <td>(773) 534-2390</td>\n",
       "      <td>http://schoolreports.cps.edu/SchoolProgressRep...</td>\n",
       "      <td>Ravenswood-Ridge Elementary Network</td>\n",
       "      <td>...</td>\n",
       "      <td>150000000000000</td>\n",
       "      <td>1161016.902</td>\n",
       "      <td>1934466.545</td>\n",
       "      <td>41.975867</td>\n",
       "      <td>-87.683254</td>\n",
       "      <td>4</td>\n",
       "      <td>LINCOLN SQUARE</td>\n",
       "      <td>47</td>\n",
       "      <td>20</td>\n",
       "      <td>(41.975867, -87.68325438)</td>\n",
       "    </tr>\n",
       "    <tr>\n",
       "      <th>3</th>\n",
       "      <td>609835</td>\n",
       "      <td>Daniel R Cameron Elementary School</td>\n",
       "      <td>ES</td>\n",
       "      <td>1234 N Monticello Ave</td>\n",
       "      <td>Chicago</td>\n",
       "      <td>IL</td>\n",
       "      <td>60651</td>\n",
       "      <td>(773) 534-4290</td>\n",
       "      <td>http://schoolreports.cps.edu/SchoolProgressRep...</td>\n",
       "      <td>Garfield-Humboldt Elementary Network</td>\n",
       "      <td>...</td>\n",
       "      <td>150000000000000</td>\n",
       "      <td>1151767.546</td>\n",
       "      <td>1908130.068</td>\n",
       "      <td>41.903785</td>\n",
       "      <td>-87.717963</td>\n",
       "      <td>23</td>\n",
       "      <td>HUMBOLDT PARK</td>\n",
       "      <td>26</td>\n",
       "      <td>25</td>\n",
       "      <td>(41.90378521, -87.71796315)</td>\n",
       "    </tr>\n",
       "    <tr>\n",
       "      <th>4</th>\n",
       "      <td>610521</td>\n",
       "      <td>Sir Miles Davis Magnet Elementary Academy</td>\n",
       "      <td>ES</td>\n",
       "      <td>6730 S Paulina St</td>\n",
       "      <td>Chicago</td>\n",
       "      <td>IL</td>\n",
       "      <td>60636</td>\n",
       "      <td>(773) 535-9120</td>\n",
       "      <td>http://schoolreports.cps.edu/SchoolProgressRep...</td>\n",
       "      <td>Englewood-Gresham Elementary Network</td>\n",
       "      <td>...</td>\n",
       "      <td>150000000000000</td>\n",
       "      <td>1166133.893</td>\n",
       "      <td>1859929.018</td>\n",
       "      <td>41.771222</td>\n",
       "      <td>-87.666567</td>\n",
       "      <td>67</td>\n",
       "      <td>WEST ENGLEWOOD</td>\n",
       "      <td>15</td>\n",
       "      <td>7</td>\n",
       "      <td>(41.77122181, -87.66656657)</td>\n",
       "    </tr>\n",
       "  </tbody>\n",
       "</table>\n",
       "<p>5 rows × 79 columns</p>\n",
       "</div>"
      ],
      "text/plain": [
       "   School ID                             Name of School  \\\n",
       "0     609966        Charles G Hammond Elementary School   \n",
       "1     610539            Marvin Camras Elementary School   \n",
       "2     609852           Eliza Chappell Elementary School   \n",
       "3     609835         Daniel R Cameron Elementary School   \n",
       "4     610521  Sir Miles Davis Magnet Elementary Academy   \n",
       "\n",
       "  Elementary, Middle, or High School          Street Address     City State  \\\n",
       "0                                 ES         2819 W 21st Pl   Chicago    IL   \n",
       "1                                 ES       3000 N Mango Ave   Chicago    IL   \n",
       "2                                 ES      2135 W Foster Ave   Chicago    IL   \n",
       "3                                 ES  1234 N Monticello Ave   Chicago    IL   \n",
       "4                                 ES      6730 S Paulina St   Chicago    IL   \n",
       "\n",
       "   ZIP Code    Phone Number  \\\n",
       "0     60623  (773) 535-4580   \n",
       "1     60634  (773) 534-2960   \n",
       "2     60625  (773) 534-2390   \n",
       "3     60651  (773) 534-4290   \n",
       "4     60636  (773) 535-9120   \n",
       "\n",
       "                                               Link   \\\n",
       "0  http://schoolreports.cps.edu/SchoolProgressRep...   \n",
       "1  http://schoolreports.cps.edu/SchoolProgressRep...   \n",
       "2  http://schoolreports.cps.edu/SchoolProgressRep...   \n",
       "3  http://schoolreports.cps.edu/SchoolProgressRep...   \n",
       "4  http://schoolreports.cps.edu/SchoolProgressRep...   \n",
       "\n",
       "                            Network Manager  ...       RCDTS Code  \\\n",
       "0  Pilsen-Little Village Elementary Network  ...  150000000000000   \n",
       "1              Fullerton Elementary Network  ...  150000000000000   \n",
       "2       Ravenswood-Ridge Elementary Network  ...  150000000000000   \n",
       "3      Garfield-Humboldt Elementary Network  ...  150000000000000   \n",
       "4      Englewood-Gresham Elementary Network  ...  150000000000000   \n",
       "\n",
       "  X_COORDINATE Y_COORDINATE   Latitude  Longitude Community Area Number  \\\n",
       "0  1157809.015  1889554.623  41.852691 -87.696278                    30   \n",
       "1  1137482.296  1919394.900  41.934966 -87.770165                    19   \n",
       "2  1161016.902  1934466.545  41.975867 -87.683254                     4   \n",
       "3  1151767.546  1908130.068  41.903785 -87.717963                    23   \n",
       "4  1166133.893  1859929.018  41.771222 -87.666567                    67   \n",
       "\n",
       "  Community Area Name  Ward Police District                     Location  \n",
       "0      SOUTH LAWNDALE    12              10  (41.85269133, -87.69627777)  \n",
       "1      BELMONT CRAGIN    30              25  (41.93496641, -87.77016525)  \n",
       "2      LINCOLN SQUARE    47              20    (41.975867, -87.68325438)  \n",
       "3       HUMBOLDT PARK    26              25  (41.90378521, -87.71796315)  \n",
       "4      WEST ENGLEWOOD    15               7  (41.77122181, -87.66656657)  \n",
       "\n",
       "[5 rows x 79 columns]"
      ]
     },
     "execution_count": 1,
     "metadata": {},
     "output_type": "execute_result"
    }
   ],
   "source": [
    "import pandas as pd\n",
    "\n",
    "data = pd.read_csv('./data/Chicago_Public_Schools_-_Progress_Report_Cards__2011-2012_.csv')\n",
    "\n",
    "data.head(5)"
   ]
  },
  {
   "cell_type": "code",
   "execution_count": 2,
   "metadata": {},
   "outputs": [
    {
     "data": {
      "text/plain": [
       "(566, 79)"
      ]
     },
     "execution_count": 2,
     "metadata": {},
     "output_type": "execute_result"
    }
   ],
   "source": [
    "# display shape of data - rows and columns\n",
    "data.shape"
   ]
  },
  {
   "cell_type": "code",
   "execution_count": 3,
   "metadata": {},
   "outputs": [
    {
     "name": "stdout",
     "output_type": "stream",
     "text": [
      "<class 'pandas.core.frame.DataFrame'>\n",
      "RangeIndex: 566 entries, 0 to 565\n",
      "Data columns (total 79 columns):\n",
      " #   Column                                             Non-Null Count  Dtype  \n",
      "---  ------                                             --------------  -----  \n",
      " 0   School ID                                          566 non-null    int64  \n",
      " 1   Name of School                                     566 non-null    object \n",
      " 2   Elementary, Middle, or High School                 566 non-null    object \n",
      " 3   Street Address                                     566 non-null    object \n",
      " 4   City                                               566 non-null    object \n",
      " 5   State                                              566 non-null    object \n",
      " 6   ZIP Code                                           566 non-null    int64  \n",
      " 7   Phone Number                                       566 non-null    object \n",
      " 8   Link                                               565 non-null    object \n",
      " 9   Network Manager                                    566 non-null    object \n",
      " 10  Collaborative Name                                 566 non-null    object \n",
      " 11  Adequate Yearly Progress Made?                     566 non-null    object \n",
      " 12  Track Schedule                                     566 non-null    object \n",
      " 13  CPS Performance Policy Status                      566 non-null    object \n",
      " 14  CPS Performance Policy Level                       566 non-null    object \n",
      " 15  Healthy Schools Certified?                         566 non-null    object \n",
      " 16  Safety Icon                                        566 non-null    object \n",
      " 17  Safety Score                                       513 non-null    float64\n",
      " 18  Family Involvement Icon                            566 non-null    object \n",
      " 19  Family Involvement Score                           566 non-null    object \n",
      " 20  Environment Icon                                   566 non-null    object \n",
      " 21  Environment Score                                  513 non-null    float64\n",
      " 22  Instruction Icon                                   566 non-null    object \n",
      " 23  Instruction Score                                  513 non-null    float64\n",
      " 24  Leaders Icon                                       566 non-null    object \n",
      " 25  Leaders Score                                      566 non-null    object \n",
      " 26  Teachers Icon                                      566 non-null    object \n",
      " 27  Teachers Score                                     566 non-null    object \n",
      " 28  Parent Engagement Icon                             566 non-null    object \n",
      " 29  Parent Engagement Score                            566 non-null    object \n",
      " 30  Parent Environment Icon                            566 non-null    object \n",
      " 31  Parent Environment Score                           566 non-null    object \n",
      " 32  Average Student Attendance                         565 non-null    float64\n",
      " 33  Rate of Misconducts (per 100 students)             566 non-null    float64\n",
      " 34  Average Teacher Attendance                         566 non-null    float64\n",
      " 35  Individualized Education Program Compliance Rate   566 non-null    float64\n",
      " 36  Pk-2 Literacy %                                    566 non-null    object \n",
      " 37  Pk-2 Math %                                        566 non-null    object \n",
      " 38  Gr3-5 Grade Level Math %                           566 non-null    object \n",
      " 39  Gr3-5 Grade Level Read %                           566 non-null    object \n",
      " 40  Gr3-5 Keep Pace Read %                             566 non-null    object \n",
      " 41  Gr3-5 Keep Pace Math %                             566 non-null    object \n",
      " 42  Gr6-8 Grade Level Math %                           566 non-null    object \n",
      " 43  Gr6-8 Grade Level Read %                           566 non-null    object \n",
      " 44  Gr6-8 Keep Pace Math%                              566 non-null    object \n",
      " 45  Gr6-8 Keep Pace Read %                             566 non-null    object \n",
      " 46  Gr-8 Explore Math %                                566 non-null    object \n",
      " 47  Gr-8 Explore Read %                                566 non-null    object \n",
      " 48  ISAT Exceeding Math %                              476 non-null    float64\n",
      " 49  ISAT Exceeding Reading %                           476 non-null    float64\n",
      " 50  ISAT Value Add Math                                468 non-null    float64\n",
      " 51  ISAT Value Add Read                                468 non-null    float64\n",
      " 52  ISAT Value Add Color Math                          566 non-null    object \n",
      " 53  ISAT Value Add Color Read                          566 non-null    object \n",
      " 54  Students Taking  Algebra %                         566 non-null    object \n",
      " 55  Students Passing  Algebra %                        566 non-null    object \n",
      " 56  9th Grade EXPLORE (2009)                           566 non-null    object \n",
      " 57  9th Grade EXPLORE (2010)                           566 non-null    object \n",
      " 58  10th Grade PLAN (2009)                             566 non-null    object \n",
      " 59  10th Grade PLAN (2010)                             566 non-null    object \n",
      " 60  Net Change EXPLORE and PLAN                        566 non-null    object \n",
      " 61  11th Grade Average ACT (2011)                      566 non-null    object \n",
      " 62  Net Change PLAN and ACT                            566 non-null    object \n",
      " 63  College Eligibility %                              566 non-null    object \n",
      " 64  Graduation Rate %                                  566 non-null    object \n",
      " 65  College Enrollment Rate %                          566 non-null    object \n",
      " 66  College Enrollment (number of students)            566 non-null    int64  \n",
      " 67  General Services Route                             566 non-null    int64  \n",
      " 68  Freshman on Track Rate %                           566 non-null    object \n",
      " 69  RCDTS Code                                         566 non-null    int64  \n",
      " 70  X_COORDINATE                                       566 non-null    float64\n",
      " 71  Y_COORDINATE                                       566 non-null    float64\n",
      " 72  Latitude                                           566 non-null    float64\n",
      " 73  Longitude                                          566 non-null    float64\n",
      " 74  Community Area Number                              566 non-null    int64  \n",
      " 75  Community Area Name                                566 non-null    object \n",
      " 76  Ward                                               566 non-null    int64  \n",
      " 77  Police District                                    566 non-null    int64  \n",
      " 78  Location                                           566 non-null    object \n",
      "dtypes: float64(15), int64(8), object(56)\n",
      "memory usage: 349.5+ KB\n"
     ]
    }
   ],
   "source": [
    "# display dataframe info\n",
    "data.info()"
   ]
  },
  {
   "cell_type": "code",
   "execution_count": 4,
   "metadata": {},
   "outputs": [
    {
     "name": "stdout",
     "output_type": "stream",
     "text": [
      "No     476\n",
      "Yes     72\n",
      "NDA     18\n",
      "Name: Adequate Yearly Progress Made? , dtype: int64\n"
     ]
    },
    {
     "data": {
      "image/png": "[encoded data removed]",
      "text/plain": [
       "<Figure size 432x288 with 1 Axes>"
      ]
     },
     "metadata": {
      "needs_background": "light"
     },
     "output_type": "display_data"
    },
    {
     "data": {
      "image/png": "[encoded data removed]",
      "text/plain": [
       "<Figure size 432x288 with 1 Axes>"
      ]
     },
     "metadata": {
      "needs_background": "light"
     },
     "output_type": "display_data"
    },
    {
     "data": {
      "image/png": "[encoded data removed]",
      "text/plain": [
       "<Figure size 432x288 with 1 Axes>"
      ]
     },
     "metadata": {
      "needs_background": "light"
     },
     "output_type": "display_data"
    }
   ],
   "source": [
    "import matplotlib.pyplot as plt\n",
    "import seaborn as sns\n",
    "\n",
    "# print passing vs failing counts\n",
    "print(data['Adequate Yearly Progress Made? '].value_counts())\n",
    "\n",
    "# vizualize yearly progress grades\n",
    "sns.countplot(x='Adequate Yearly Progress Made? ', data=data)\n",
    "plt.show()\n",
    "\n",
    "sns.countplot(x='Ward', data=data.where(data['Adequate Yearly Progress Made? '] == 'Yes'))\n",
    "plt.show()\n",
    "\n",
    "sns.countplot(x='Police District', data=data.where(data['Adequate Yearly Progress Made? '] == 'Yes'))\n",
    "plt.show()"
   ]
  },
  {
   "cell_type": "markdown",
   "metadata": {},
   "source": [
    "## Data Cleaning\n",
    "\n",
    "- Remove Adequate Yearly Progress Made records with NDA and cast to binary value\n",
    "- Fill NA score values with zero\n",
    "- Replace NDA values with zero\n",
    "- Cast score values to integers\n"
   ]
  },
  {
   "cell_type": "code",
   "execution_count": 5,
   "metadata": {},
   "outputs": [],
   "source": [
    "# remove records identified with not enough data \n",
    "data = data[data['Adequate Yearly Progress Made? '] != 'NDA']\n",
    "\n",
    "# cast to binary value\n",
    "data['AdequateYearlyProgressMade'] = data.apply(lambda x: 0 if x['Adequate Yearly Progress Made? '] == 'No' else 1, axis = 1)"
   ]
  },
  {
   "cell_type": "code",
   "execution_count": 6,
   "metadata": {},
   "outputs": [],
   "source": [
    "# fill na on scores\n",
    "data['Safety Score'].fillna(data['Safety Score'].median(), inplace=True)\n",
    "data['Family Involvement Score'].fillna(0, inplace=True)\n",
    "data['Environment Score'].fillna(data['Environment Score'].median(), inplace=True)\n",
    "data['Instruction Score'].fillna(data['Instruction Score'].median(), inplace=True)\n",
    "data['Leaders Score '].fillna(0, inplace=True)\n",
    "data['Teachers Score'].fillna(0, inplace=True)"
   ]
  },
  {
   "cell_type": "code",
   "execution_count": 7,
   "metadata": {},
   "outputs": [
    {
     "data": {
      "text/plain": [
       "0      False\n",
       "1       True\n",
       "2       True\n",
       "3      False\n",
       "4      False\n",
       "       ...  \n",
       "561     True\n",
       "562    False\n",
       "563     True\n",
       "564    False\n",
       "565    False\n",
       "Name: Family Involvement Score, Length: 548, dtype: bool"
      ]
     },
     "execution_count": 7,
     "metadata": {},
     "output_type": "execute_result"
    }
   ],
   "source": [
    "data['Family Involvement Score'] != 'NDA')"
   ]
  },
  {
   "cell_type": "code",
   "execution_count": 8,
   "metadata": {},
   "outputs": [],
   "source": [
    "# baseline scores and replace NDA with 0\n",
    "data['FamilyInvolvementScore'] = data.apply(lambda x: (0 if x['Family Involvement Score'] == 'NDA' else x['Family Involvement Score']), axis = 1)\n",
    "data['LeadersScore'] = data.apply(lambda x: (0 if x['Leaders Score '] == 'NDA' else x['Leaders Score ']), axis = 1)\n",
    "data['TeachersScore'] = data.apply(lambda x: (0 if x['Teachers Score'] == 'NDA' else x['Teachers Score']), axis = 1)\n",
    "data['ParentEngagementScore'] = data.apply(lambda x: (0 if x['Parent Engagement Score'] == 'NDA' else x['Parent Engagement Score']), axis = 1)\n",
    "data['ParentEnvironmentScore'] = data.apply(lambda x: (0 if x['Parent Environment Score'] == 'NDA' else x['Parent Environment Score']), axis = 1)"
   ]
  },
  {
   "cell_type": "code",
   "execution_count": 9,
   "metadata": {},
   "outputs": [],
   "source": [
    "data['Safety Score'] = data['Safety Score'].astype('int')\n",
    "data['FamilyInvolvementScore'] = data['FamilyInvolvementScore'].astype('int')\n",
    "data['Environment Score'] = data['Environment Score'].astype('int')\n",
    "data['Instruction Score'] = data['Instruction Score'].astype('int')\n",
    "data['LeadersScore'] = data['LeadersScore'].astype('int')\n",
    "data['TeachersScore'] = data['TeachersScore'].astype('int')\n",
    "data['ParentEngagementScore'] = data['ParentEngagementScore'].astype('int')\n",
    "data['ParentEnvironmentScore'] = data['ParentEnvironmentScore'].astype('int')"
   ]
  },
  {
   "cell_type": "code",
   "execution_count": 10,
   "metadata": {},
   "outputs": [
    {
     "name": "stdout",
     "output_type": "stream",
     "text": [
      "Safety Score: max 99.000000 mean 49.074818 min 1.000000\n",
      "College Enrollment (number of students): max 4368.000000 mean 639.244526 min 44.000000\n"
     ]
    }
   ],
   "source": [
    "# display basic metrics for features under review\n",
    "print('Safety Score: max {:f} mean {:f} min {:f}'.format(data['Safety Score'].max(), data['Safety Score'].mean(), data['Safety Score'].min()))\n",
    "print('College Enrollment (number of students): max {:f} mean {:f} min {:f}'.format(data['College Enrollment (number of students) '].max(), data['College Enrollment (number of students) '].mean(), data['College Enrollment (number of students) '].min()))"
   ]
  },
  {
   "cell_type": "raw",
   "metadata": {},
   "source": [
    "print(data['FamilyInvolvementScore'].max())\n",
    "print(data['Environment Score'].max())\n",
    "print(data['Instruction Score'].max())\n",
    "print(data['LeadersScore'].max())\n",
    "print(data['TeachersScore'].max())\n",
    "print(data['ParentEngagementScore'].max())\n",
    "print(data['ParentEnvironmentScore'].max())"
   ]
  },
  {
   "cell_type": "code",
   "execution_count": 11,
   "metadata": {
    "scrolled": false
   },
   "outputs": [
    {
     "data": {
      "image/png": "[encoded data removed]",
      "text/plain": [
       "<Figure size 432x288 with 1 Axes>"
      ]
     },
     "metadata": {
      "needs_background": "light"
     },
     "output_type": "display_data"
    },
    {
     "data": {
      "image/png": "[encoded data removed]",
      "text/plain": [
       "<Figure size 432x288 with 1 Axes>"
      ]
     },
     "metadata": {
      "needs_background": "light"
     },
     "output_type": "display_data"
    },
    {
     "data": {
      "image/png": "[encoded data removed]",
      "text/plain": [
       "<Figure size 432x288 with 1 Axes>"
      ]
     },
     "metadata": {
      "needs_background": "light"
     },
     "output_type": "display_data"
    },
    {
     "data": {
      "image/png": "[encoded data removed]",
      "text/plain": [
       "<Figure size 432x288 with 1 Axes>"
      ]
     },
     "metadata": {
      "needs_background": "light"
     },
     "output_type": "display_data"
    },
    {
     "data": {
      "image/png": "[encoded data removed]",
      "text/plain": [
       "<Figure size 432x288 with 1 Axes>"
      ]
     },
     "metadata": {
      "needs_background": "light"
     },
     "output_type": "display_data"
    },
    {
     "data": {
      "image/png": "[encoded data removed]",
      "text/plain": [
       "<Figure size 432x288 with 1 Axes>"
      ]
     },
     "metadata": {
      "needs_background": "light"
     },
     "output_type": "display_data"
    },
    {
     "data": {
      "image/png": "[encoded data removed]",
      "text/plain": [
       "<Figure size 432x288 with 1 Axes>"
      ]
     },
     "metadata": {
      "needs_background": "light"
     },
     "output_type": "display_data"
    },
    {
     "data": {
      "image/png": "[encoded data removed]",
      "text/plain": [
       "<Figure size 432x288 with 1 Axes>"
      ]
     },
     "metadata": {
      "needs_background": "light"
     },
     "output_type": "display_data"
    }
   ],
   "source": [
    "# display districutions for key features\n",
    "sns.boxplot(x=data['Safety Score'])\n",
    "plt.show()\n",
    "\n",
    "sns.boxplot(x=data['Environment Score'])\n",
    "plt.show()\n",
    "\n",
    "sns.boxplot(x=data['Instruction Score'])\n",
    "plt.show()\n",
    "\n",
    "sns.boxplot(x=data['LeadersScore'])\n",
    "plt.show()\n",
    "\n",
    "sns.boxplot(x=data['TeachersScore'])\n",
    "plt.show()\n",
    "\n",
    "sns.boxplot(x=data['ParentEngagementScore'])\n",
    "plt.show()\n",
    "\n",
    "sns.boxplot(x=data['ParentEnvironmentScore'])\n",
    "plt.show()\n",
    "\n",
    "sns.boxplot(x=data['College Enrollment (number of students) '])\n",
    "plt.show()"
   ]
  },
  {
   "cell_type": "markdown",
   "metadata": {},
   "source": [
    "## Feature Engineering\n"
   ]
  },
  {
   "cell_type": "code",
   "execution_count": 12,
   "metadata": {},
   "outputs": [
    {
     "data": {
      "text/plain": [
       "(548, 15)"
      ]
     },
     "execution_count": 12,
     "metadata": {},
     "output_type": "execute_result"
    }
   ],
   "source": [
    "# define a list of features for review\n",
    "features = ['Safety Score',\n",
    " 'FamilyInvolvementScore',\n",
    " 'Environment Score',\n",
    " 'Instruction Score',\n",
    " 'LeadersScore',\n",
    " 'TeachersScore',\n",
    " 'ParentEngagementScore',\n",
    " 'ParentEnvironmentScore',\n",
    " 'Average Student Attendance',\n",
    " 'Rate of Misconducts (per 100 students) ',\n",
    " 'Average Teacher Attendance',\n",
    " 'Individualized Education Program Compliance Rate ',\n",
    " 'College Enrollment (number of students) ', 'Ward', 'Police District']\n",
    "\n",
    "# establish data for classification\n",
    "X = data[features]\n",
    "y = data['AdequateYearlyProgressMade']\n",
    "\n",
    "X.shape"
   ]
  },
  {
   "cell_type": "code",
   "execution_count": 31,
   "metadata": {},
   "outputs": [
    {
     "name": "stdout",
     "output_type": "stream",
     "text": [
      "Optimal number of features: 6\n",
      "['Safety Score', 'ParentEngagementScore', 'ParentEnvironmentScore', 'Average Student Attendance', 'Individualized Education Program Compliance Rate ', 'Police District']\n",
      "0.9324817518248175\n"
     ]
    }
   ],
   "source": [
    "#\n",
    "# NOTE - This cell needs ~20-30 seconds to execute\n",
    "#\n",
    "\n",
    "from sklearn.svm import SVC\n",
    "from sklearn.tree import DecisionTreeClassifier\n",
    "from sklearn.model_selection import StratifiedKFold\n",
    "from sklearn.feature_selection import RFECV\n",
    "\n",
    "# utilize Recursive Feature Elimination to reduse the 15 features down to fewer, meaningful ones\n",
    "svc = SVC(kernel=\"linear\")\n",
    "rfecv = RFECV(estimator=svc, step=1, cv=StratifiedKFold(2),\n",
    "              scoring='accuracy')\n",
    "# fit model\n",
    "rfecv.fit(X, y)\n",
    "\n",
    "optimal_number_features = rfecv.n_features_\n",
    "\n",
    "print('Optimal number of features: {:d}'.format(optimal_number_features))\n",
    "\n",
    "selected_features = []\n",
    "\n",
    "# iterate through features and pull the top ranked ones\n",
    "for i,f in enumerate(features):\n",
    "    if rfecv.ranking_[i] == 1:\n",
    "        selected_features.append(f)\n",
    "\n",
    "# display features identified by the model\n",
    "print(selected_features)\n",
    "\n",
    "print(rfecv.score(X, y))"
   ]
  },
  {
   "cell_type": "code",
   "execution_count": 21,
   "metadata": {},
   "outputs": [],
   "source": [
    "# split data set\n",
    "from sklearn.model_selection import train_test_split\n",
    "\n",
    "X_selected = data[selected_features]\n",
    "\n",
    "X_train, X_test, y_train, y_test = train_test_split(X_selected, y, test_size = 0.3, random_state =1, stratify = y)"
   ]
  },
  {
   "cell_type": "code",
   "execution_count": 33,
   "metadata": {},
   "outputs": [
    {
     "name": "stdout",
     "output_type": "stream",
     "text": [
      "Score - Training: 0.906005\n",
      "Score - Test: 0.933333\n"
     ]
    }
   ],
   "source": [
    "# execute LogisticRegression\n",
    "from sklearn.linear_model import LogisticRegression\n",
    "\n",
    "logreg = LogisticRegression(penalty = 'none', random_state=1)\n",
    "logreg.fit(X_train, y_train)\n",
    "\n",
    "print('Score - Training: {:f}'.format(logreg.score(X_train, y_train)))\n",
    "print('Score - Test: {:f}'.format(logreg.score(X_test, y_test)))"
   ]
  },
  {
   "cell_type": "markdown",
   "metadata": {},
   "source": [
    "## Results and Discussion\n",
    "\n",
    "Run the model against representative data culled from the existing dataset using percentiles for both models."
   ]
  },
  {
   "cell_type": "code",
   "execution_count": 37,
   "metadata": {},
   "outputs": [
    {
     "name": "stdout",
     "output_type": "stream",
     "text": [
      "RFECV Results:\n",
      "Success at 94 percentile\n",
      "Success at 95 percentile\n",
      "Success at 98 percentile\n",
      "LogReg Results:\n",
      "Success at 94 percentile\n",
      "Success at 95 percentile\n",
      "Success at 98 percentile\n"
     ]
    }
   ],
   "source": [
    "from util import generate_prediction_data\n",
    "\n",
    "percentiles=[5, 25, 50, 75, 80, 90, 93, 94, 95, 98]\n",
    "\n",
    "rfecv_prediction_data = generate_prediction_data(features, data, percentiles)\n",
    "\n",
    "rfecv_predict = rfecv.predict(rfecv_prediction_data)\n",
    "\n",
    "print('RFECV Results:')\n",
    "\n",
    "for i, p in enumerate(rfecv_predict):\n",
    "    if p == 1:\n",
    "        print('Success at {:d} percentile'.format(percentiles[i]))\n",
    "\n",
    "logreg_prediction_data = generate_prediction_data(selected_features, data, percentiles)\n",
    "\n",
    "logreg_predict = logreg.predict(logreg_prediction_data)\n",
    "\n",
    "print('LogReg Results:')\n",
    "\n",
    "for i, l in enumerate(logreg_predict):\n",
    "    if l == 1:\n",
    "        print('Success at {:d} percentile'.format(percentiles[i]))"
   ]
  },
  {
   "cell_type": "markdown",
   "metadata": {},
   "source": [
    "## Conclusion and Summary\n",
    "\n",
    "### Identify the traits that factor into a superlative school\n",
    "\n",
    "Based upon the analysis above the dataset of 15 features was reduced to these 6 key features:\n",
    "\n",
    "- Safety Score\n",
    "- ParentEngagementScore\n",
    "- ParentEnvironmentScore\n",
    "- Average Student Attendance\n",
    "- Individualized Education Program Compliance Rate\n",
    "- Police District\n",
    "\n",
    "Taken together, these features represent a fairly clear picture of the ingredients for educational success.  They're a blend physical safety, parental support and participation.\n",
    "\n",
    "### Determine if geographic factors have any impact on school performance\n",
    "\n",
    "Inconclusive.  There were two geographic features included in the dataset: Ward and Police District.  The RFECV model deemed Police District to be significant, but that grouping alone likely lacks adequate context.  Perhaps an economic indicator would be a more meaningful dimension.\n",
    "\n",
    "### Create a model that scores 85% or better\n",
    "\n",
    "The RFECV model scored 0.9324817518248175 or 93%.  The Logistic Regression model scored a similar 93%."
   ]
  },
  {
   "cell_type": "markdown",
   "metadata": {},
   "source": [
    "## Limitations and Future Work\n",
    "\n",
    "There did not appear to be an adjacent dataset ie, the preceeding or subsequent year, which would have been useful for testing the prediction model.\n",
    "\n",
    "Economic indicators are not present, so incorporating those factors could help to better understand the circumstances surrounding schools and the population they serve.  Leveraging income data for the school's ward or police district would be informative.  Additionally, spending per school derived from the Chicago Public Schools' operating budget could help inform what resources are being allocated per school.\n",
    "\n",
    "Lastly, geography plays a lot into the economic opportunities for citizens of Chicago.  Lake Michigan serves as a physical boundary to the east, with populations to the north and east perceived as generally more affluent.  The basic map below illustrates this."
   ]
  },
  {
   "cell_type": "code",
   "execution_count": 20,
   "metadata": {
    "scrolled": true
   },
   "outputs": [
    {
     "data": {
      "image/png": "[encoded data removed]",
      "text/plain": [
       "<Figure size 432x288 with 1 Axes>"
      ]
     },
     "metadata": {
      "needs_background": "light"
     },
     "output_type": "display_data"
    }
   ],
   "source": [
    "# plot schools on a map\n",
    "# passibng schools are darker color\n",
    "plt.scatter(y=data['Latitude'], x=data['Longitude'], c=data['AdequateYearlyProgressMade'], cmap='YlGn')\n",
    "plt.ylabel('Latitude')\n",
    "plt.xlabel('Longitude')\n",
    "plt.show()"
   ]
  },
  {
   "cell_type": "markdown",
   "metadata": {},
   "source": [
    "## References and Contributions\n",
    "\n",
    "Made liberal use of the documentation sites for pandas, sklearn, matplotlib and seaborn\n",
    "\n",
    "[Building A Logistic Regression in Python, Step by Step](https://towardsdatascience.com/building-a-logistic-regression-in-python-step-by-step-becd4d56c9c8) - Susan Li\n",
    "\n",
    "[Feature Selection For Machine Learning in Python](https://machinelearningmastery.com/rfe-feature-selection-in-python/) - Jason Brownlee"
   ]
  }
 ],
 "metadata": {
  "kernelspec": {
   "display_name": "Python 3",
   "language": "python",
   "name": "python3"
  },
  "language_info": {
   "codemirror_mode": {
    "name": "ipython",
    "version": 3
   },
   "file_extension": ".py",
   "mimetype": "text/x-python",
   "name": "python",
   "nbconvert_exporter": "python",
   "pygments_lexer": "ipython3",
   "version": "3.8.3"
  }
 },
 "nbformat": 4,
 "nbformat_minor": 1
}
